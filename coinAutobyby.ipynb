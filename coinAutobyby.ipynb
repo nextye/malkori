{
  "nbformat": 4,
  "nbformat_minor": 0,
  "metadata": {
    "colab": {
      "provenance": [],
      "authorship_tag": "ABX9TyMTjJhcSJ8e9RgpEWvhMN60",
      "include_colab_link": true
    },
    "kernelspec": {
      "name": "python3",
      "display_name": "Python 3"
    },
    "language_info": {
      "name": "python"
    }
  },
  "cells": [
    {
      "cell_type": "markdown",
      "metadata": {
        "id": "view-in-github",
        "colab_type": "text"
      },
      "source": [
        "<a href=\"https://colab.research.google.com/github/nextye/malkori/blob/master/coinAutobyby.ipynb\" target=\"_parent\"><img src=\"https://colab.research.google.com/assets/colab-badge.svg\" alt=\"Open In Colab\"/></a>"
      ]
    },
    {
      "cell_type": "code",
      "source": [
        "coins = {'ETC':0.1, 'ETH':0.5, 'BTC':0.01, 'XRP':10, 'BCH':0.005}\n"
      ],
      "metadata": {
        "id": "nRA409mg4xgU"
      },
      "execution_count": 3,
      "outputs": []
    },
    {
      "cell_type": "code",
      "execution_count": 7,
      "metadata": {
        "id": "mABt6EME2vAK"
      },
      "outputs": [],
      "source": [
        "def get_min_order(ticker):\n",
        "  min_order = None\n",
        "  if ticker in coins:\n",
        "    min_order = coins[ticker]\n",
        "  return min_order"
      ]
    },
    {
      "cell_type": "code",
      "source": [
        "print(get_min_order('BTH'))"
      ],
      "metadata": {
        "colab": {
          "base_uri": "https://localhost:8080/"
        },
        "id": "bmMIw9xm3bIo",
        "outputId": "b78fe527-9669-4472-918c-035f1159f14a"
      },
      "execution_count": 8,
      "outputs": [
        {
          "output_type": "stream",
          "name": "stdout",
          "text": [
            "None\n"
          ]
        }
      ]
    },
    {
      "cell_type": "code",
      "source": [
        "def 별찍기():\n",
        "  print('*' * 40)\n",
        "  print('*', ' ' * 36, '*')\n",
        "  print('*', ' ' * 36, '*')\n",
        "  print('*' * 40)\n",
        "\n",
        "별찍기()"
      ],
      "metadata": {
        "colab": {
          "base_uri": "https://localhost:8080/"
        },
        "id": "RYG6rs9Q50Fi",
        "outputId": "e3cf92d8-2a47-4a93-f8a0-02f9f9779fbb"
      },
      "execution_count": 12,
      "outputs": [
        {
          "output_type": "stream",
          "name": "stdout",
          "text": [
            "****************************************\n",
            "*                                      *\n",
            "*                                      *\n",
            "****************************************\n"
          ]
        }
      ]
    }
  ]
}